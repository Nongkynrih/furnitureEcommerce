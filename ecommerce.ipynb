{
 "cells": [
  {
   "cell_type": "code",
   "execution_count": null,
   "id": "1b1572af-15e4-4322-b7aa-15ff8d6fbecd",
   "metadata": {},
   "outputs": [],
   "source": [
    "import pandas as pd \n",
    "df= pd.read_csv(r\"C:\\Users\\johnn\\Desktop\\internship\\ecommerce_furniture_dataset_2024.csv\")\n",
    "print(df.info())\n",
    "print(df[['originalPrice', 'price']].head(10))\n",
    "print(df['originalPrice'].isna().sum(), \"missing originalPrice values\")"
   ]
  },
  {
   "cell_type": "code",
   "execution_count": null,
   "id": "33d47553-3014-494c-9940-68934178f77e",
   "metadata": {},
   "outputs": [],
   "source": [
    "# remove the '$', ',' and convert to floating point \n",
    "df['price'] = df['price'].replace(r'[\\$,]', \"\", regex= True).astype(float)\n",
    "df['originalPrice']= df['originalPrice'].replace(r'[\\$,]', \"\", regex=True)\n",
    "\n",
    "#original to float ,and having the nan value\n",
    "df['originalPrice']= pd.to_numeric(df['originalPrice'], errors= 'coerce')\n",
    "\n",
    "#filling the missing values \n",
    "df['originalPrice'].fillna(df['price'], inplace=True)\n",
    "print(df[['originalPrice', 'price']].head(10))"
   ]
  },
  {
   "cell_type": "code",
   "execution_count": null,
   "id": "08682941-663f-4e4f-90dc-4cb63fd64894",
   "metadata": {},
   "outputs": [],
   "source": [
    "df['discount']= ((df['originalPrice'] - df['price'])/ df['originalPrice'])*100\n",
    "print(df[['originalPrice', 'price', 'discount']]. head(10))"
   ]
  },
  {
   "cell_type": "code",
   "execution_count": null,
   "id": "bac1519a-b4fb-4da6-8070-7d1e1061be43",
   "metadata": {},
   "outputs": [],
   "source": [
    "#discount flag and the discount bucket \n",
    "df['is_discount']= (df['discount']> 0).astype(int)\n",
    "df['discount_level']= pd.cut(df['discount'], bins=[-1,0,25,50,75,100], labels=['No Discount', '0-25%','25-50%','50-75%','75-100%'])"
   ]
  },
  {
   "cell_type": "code",
   "execution_count": null,
   "id": "a4543087-1646-4c01-aef6-f5311f1da51b",
   "metadata": {},
   "outputs": [],
   "source": [
    "# EDA\n",
    "import matplotlib.pyplot as plt \n",
    "print(\"Average Discount%:\", df['discount'].mean())\n",
    "print(df['is_discount'].value_counts())\n",
    "\n",
    "plt.hist(df['discount'], bins=20, edgecolor='Black')\n",
    "plt.xlabel('Discount %')\n",
    "plt.ylabel(\"Nnmber of Product\")\n",
    "plt.title(\"Distribution of Discounts\")\n",
    "plt.show()"
   ]
  },
  {
   "cell_type": "code",
   "execution_count": null,
   "id": "13cdf9da-6693-4032-b22a-1d18f706c3a9",
   "metadata": {},
   "outputs": [],
   "source": [
    "print(df.groupby('is_discount')['price'].mean())"
   ]
  },
  {
   "cell_type": "code",
   "execution_count": null,
   "id": "e9f05d96-8deb-474e-bb7a-d474cc034985",
   "metadata": {},
   "outputs": [],
   "source": [
    "# loading data to SQl\n",
    "from sqlalchemy import create_engine\n",
    "import pandas as pd \n",
    "import urllib.parse\n",
    "\n",
    "username='root'\n",
    "password= urllib.parse.quote_plus('#john123@project')\n",
    "host='localhost'\n",
    "port= 3306\n",
    "database ='ecommerce'\n",
    "\n",
    "engine= create_engine(f\"mysql+pymysql://{username}:{password}@{host}:{port}/{database}\")\n",
    "\n",
    "df.to_sql(\"Product_clean\", engine, if_exists= \"replace\", index= False)\n",
    "print(\"Data loaded successfully!!\")"
   ]
  },
  {
   "cell_type": "code",
   "execution_count": null,
   "id": "ec8105b2-df83-44fa-af32-d333232fac90",
   "metadata": {},
   "outputs": [],
   "source": []
  },
  {
   "cell_type": "code",
   "execution_count": null,
   "id": "cfeac5de-83e1-4f15-82cb-055cabd6ee05",
   "metadata": {},
   "outputs": [],
   "source": []
  },
  {
   "cell_type": "code",
   "execution_count": null,
   "id": "48c32abd-2bb7-47c9-a089-e254034fcadb",
   "metadata": {},
   "outputs": [],
   "source": [
    "# NOW TRAING OF MODDEL IS BELOW "
   ]
  },
  {
   "cell_type": "code",
   "execution_count": null,
   "id": "b37803fe-3d9f-4ce3-987a-824957d9157d",
   "metadata": {},
   "outputs": [],
   "source": [
    "# TRAINING MODEL "
   ]
  },
  {
   "cell_type": "code",
   "execution_count": null,
   "id": "6b855f9e-e6ca-447b-b748-0a46b880bce9",
   "metadata": {},
   "outputs": [],
   "source": []
  },
  {
   "cell_type": "code",
   "execution_count": 8,
   "id": "6ed99574-d64e-4d43-9e14-703cabeeb3a4",
   "metadata": {
    "scrolled": true
   },
   "outputs": [
    {
     "name": "stdout",
     "output_type": "stream",
     "text": [
      "Data Shape: (2000, 16)\n",
      "                                        productTitle  originalPrice   price  \\\n",
      "0  Dresser For Bedroom With 9 Fabric Drawers Ward...          46.79   46.79   \n",
      "1  Outdoor Conversation Set 4 Pieces Patio Furnit...         169.72  169.72   \n",
      "2  Desser For Bedroom With 7 Fabric Drawers Organ...          78.40   39.46   \n",
      "3  Modern Accent Boucle Chair,Upholstered Tufted ...         111.99  111.99   \n",
      "4  Small Unit Simple Computer Desk Household Wood...          48.82   21.37   \n",
      "5  3 Pieces Patio Furniture Set, Outdoor Swivel G...        1294.04  123.40   \n",
      "6  5-Piece Patio Furniture Set Outdoor Couch with...         198.31  198.31   \n",
      "7  Living Room Furniture, Modern 3-Piece Includin...        1474.17  734.58   \n",
      "8  TV Stand Dresser For Bedroom With 5 Fabric Dra...          43.96   43.96   \n",
      "9  Outdoor Furniture Set 3 Pieces Wicker Patio Fu...         233.30  233.30   \n",
      "\n",
      "   sold   discount  is_discount  discount_level_num  price_diff  \\\n",
      "0   600   0.000000            0                   0        0.00   \n",
      "1     0   0.000000            0                   0        0.00   \n",
      "2     7  49.668367            1                   2       38.94   \n",
      "3     0   0.000000            0                   0        0.00   \n",
      "4     1  56.226956            1                   3       27.45   \n",
      "5    53  90.463973            1                   4     1170.64   \n",
      "6     1   0.000000            0                   0        0.00   \n",
      "7     5  50.169926            1                   3      739.59   \n",
      "8     3   0.000000            0                   0        0.00   \n",
      "9     0   0.000000            0                   0        0.00   \n",
      "\n",
      "   title_Wordcount  popular_product  discount_popularity_interaction  \\\n",
      "0               19           0.0600                         0.000000   \n",
      "1               18           0.0000                         0.000000   \n",
      "2               19           0.0007                         0.027258   \n",
      "3               17           0.0000                         0.000000   \n",
      "4               17           0.0001                         0.002745   \n",
      "5               19           0.0053                         6.204392   \n",
      "6               17           0.0001                         0.000000   \n",
      "7               15           0.0005                         0.369795   \n",
      "8               19           0.0003                         0.000000   \n",
      "9               15           0.0000                         0.000000   \n",
      "\n",
      "   bedroom_furniture  living_room_furniture  outdoor_furniture  \\\n",
      "0                  1                      0                  0   \n",
      "1                  0                      1                  0   \n",
      "2                  1                      0                  0   \n",
      "3                  0                      1                  0   \n",
      "4                  0                      0                  0   \n",
      "5                  0                      0                  1   \n",
      "6                  0                      1                  0   \n",
      "7                  0                      1                  0   \n",
      "8                  1                      0                  0   \n",
      "9                  0                      1                  0   \n",
      "\n",
      "   office_home_furniture  accent_chairs  \n",
      "0                      0              0  \n",
      "1                      0              0  \n",
      "2                      0              0  \n",
      "3                      0              0  \n",
      "4                      1              0  \n",
      "5                      0              0  \n",
      "6                      0              0  \n",
      "7                      0              0  \n",
      "8                      0              0  \n",
      "9                      0              0  \n",
      "sql loaded successfully from view!\n"
     ]
    }
   ],
   "source": [
    "import pandas as pd\n",
    "import numpy as np \n",
    "from sklearn.model_selection import train_test_split, GridSearchCV\n",
    "from sklearn.ensemble import RandomForestRegressor\n",
    "from sklearn.metrics import mean_squared_error, r2_score\n",
    "import joblib\n",
    "import urllib.parse\n",
    "from sqlalchemy import create_engine \n",
    "\n",
    "\n",
    "username = \"root\"\n",
    "password= urllib.parse.quote_plus(\"#john123@project\")\n",
    "host=\"localhost\"\n",
    "port= 3306\n",
    "database=\"ecommerce\"\n",
    "engine= create_engine(f\"mysql+pymysql://{username}:{password}@{host}:{port}/{database}\")\n",
    "\n",
    "df = pd.read_sql(\"select * from ml_mod\" , engine)\n",
    "print(\"Data Shape:\", df.shape)\n",
    "print(df.head(10))\n",
    "print(\"sql loaded successfully from view!\")"
   ]
  },
  {
   "cell_type": "code",
   "execution_count": 13,
   "id": "a15a8891-3d89-4dd9-87b4-e9fb0fbea2d5",
   "metadata": {},
   "outputs": [],
   "source": [
    "X= df.drop(columns=['sold','productTitle'])\n",
    "y= df['sold']"
   ]
  },
  {
   "cell_type": "code",
   "execution_count": 14,
   "id": "c3839357-1074-4813-a178-1c82a3a63223",
   "metadata": {},
   "outputs": [],
   "source": [
    "X_train , X_test, y_train, y_test = train_test_split(X,y, test_size=0.25, random_state= 42)"
   ]
  },
  {
   "cell_type": "code",
   "execution_count": 15,
   "id": "ec996b24-1145-4fe7-acfb-68f60a986715",
   "metadata": {},
   "outputs": [
    {
     "name": "stdout",
     "output_type": "stream",
     "text": [
      "Fitting 3 folds for each of 24 candidates, totalling 72 fits\n",
      "Best Parameters: {'max_depth': 10, 'min_samples_leaf': 1, 'min_samples_split': 2, 'n_estimators': 100}\n"
     ]
    }
   ],
   "source": [
    "rf= RandomForestRegressor(random_state=42, n_jobs= -1)\n",
    "\n",
    "param_grid={\n",
    "    \"n_estimators\":[100,200],\n",
    "    \"max_depth\":[10,20,None],\n",
    "    \"min_samples_split\":[2,5],\n",
    "    \"min_samples_leaf\":[1,2]\n",
    "}\n",
    "\n",
    "grid_search = GridSearchCV(\n",
    "    rf, param_grid,\n",
    "    cv=3, scoring=\"neg_mean_squared_error\",\n",
    "    verbose=2, n_jobs=-1\n",
    ")\n",
    "\n",
    "grid_search.fit(X_train, y_train)\n",
    "\n",
    "print(\"Best Parameters:\", grid_search.best_params_)"
   ]
  },
  {
   "cell_type": "code",
   "execution_count": 17,
   "id": "51481aae-2ab6-4113-ac03-5b9ecedcbd9a",
   "metadata": {},
   "outputs": [
    {
     "name": "stdout",
     "output_type": "stream",
     "text": [
      "RMSE: 31.07375761904914\n",
      "R^2 Score: 0.9593216802325009\n"
     ]
    }
   ],
   "source": [
    "best_model = grid_search.best_estimator_\n",
    "y_pred = best_model.predict(X_test)\n",
    "rmse = np.sqrt(mean_squared_error(y_test, y_pred))\n",
    "r2= r2_score(y_test, y_pred)\n",
    "print(\"RMSE:\", rmse)\n",
    "print(\"R^2 Score:\", r2)"
   ]
  },
  {
   "cell_type": "code",
   "execution_count": 19,
   "id": "c6229688-c6a7-4dd7-a6d0-86c8db2e2636",
   "metadata": {},
   "outputs": [
    {
     "name": "stdout",
     "output_type": "stream",
     "text": [
      "Model saved as random_forest_model.pkl\n"
     ]
    }
   ],
   "source": [
    "joblib.dump(best_model,\"random_forest_model.pkl\")\n",
    "print(\"Model saved as random_forest_model.pkl\")"
   ]
  },
  {
   "cell_type": "code",
   "execution_count": 21,
   "id": "1666ee4e-3d8b-4740-86fc-120d0a4180bf",
   "metadata": {},
   "outputs": [
    {
     "name": "stdout",
     "output_type": "stream",
     "text": [
      "Pridiction save to rf_predictions.csv\n"
     ]
    }
   ],
   "source": [
    "results= pd.DataFrame({\n",
    "    \"Actual\": y_test,\n",
    "    \"Predicted\": y_pred\n",
    "})\n",
    "\n",
    "results.to_csv(\"rf_predictons.csv\", index=False)\n",
    "print(\"Pridiction save to rf_predictions.csv\")"
   ]
  },
  {
   "cell_type": "code",
   "execution_count": 22,
   "id": "cd0f8d14-2a9f-4e27-92ea-9457c305fb5a",
   "metadata": {},
   "outputs": [
    {
     "name": "stdout",
     "output_type": "stream",
     "text": [
      "C:\\Users\\johnn\n"
     ]
    }
   ],
   "source": [
    "import os \n",
    "\n",
    "curr_dir= os.getcwd()\n",
    "print(curr_dir)"
   ]
  },
  {
   "cell_type": "code",
   "execution_count": 21,
   "id": "f9ef119d-c6d7-4975-ab8f-cf14688d1869",
   "metadata": {
    "scrolled": true
   },
   "outputs": [
    {
     "name": "stdout",
     "output_type": "stream",
     "text": [
      "Saved product_predictions to MySQL\n"
     ]
    }
   ],
   "source": [
    "# Save predictions to MySQL (offline)\n",
    "import joblib, pandas as pd, urllib.parse\n",
    "from sqlalchemy import create_engine\n",
    "\n",
    "# config\n",
    "username = \"root\"\n",
    "password = urllib.parse.quote_plus(\"#john123@project\")\n",
    "host = \"localhost\"\n",
    "port = 3306\n",
    "database = \"ecommerce\"\n",
    "engine = create_engine(f\"mysql+pymysql://{username}:{password}@{host}:{port}/{database}\")\n",
    "\n",
    "# load feature view (same one you trained on)\n",
    "df = pd.read_sql(\"SELECT * FROM ml_mod\", engine)\n",
    "\n",
    "# prepare features exactly as your model expects\n",
    "X = df.drop(columns=[\"productTitle\", \"sold\"])   # adjust if your model used other cols\n",
    "model = joblib.load(r\"C:\\Users\\johnn\\random_forest_model.pkl\")  # update path\n",
    "\n",
    "# predict\n",
    "preds = model.predict(X)\n",
    "# if model was trained on log1p target, invert:\n",
    "# preds = np.expm1(preds)\n",
    "\n",
    "# assemble predictions table\n",
    "pred_df = pd.DataFrame({\n",
    "    \"productTitle\": df[\"productTitle\"],\n",
    "    \"predicted_sold\": preds\n",
    "})\n",
    "\n",
    "# save to MySQL (replace table if exists)\n",
    "pred_df.to_sql(\"product_predictions\", engine, if_exists=\"replace\", index=False, chunksize=1000)\n",
    "print(\"Saved product_predictions to MySQL\")\n"
   ]
  },
  {
   "cell_type": "code",
   "execution_count": null,
   "id": "ee8f537c-0392-4482-8f35-19170f6d16aa",
   "metadata": {},
   "outputs": [],
   "source": []
  }
 ],
 "metadata": {
  "kernelspec": {
   "display_name": "Python 3 (ipykernel)",
   "language": "python",
   "name": "python3"
  },
  "language_info": {
   "codemirror_mode": {
    "name": "ipython",
    "version": 3
   },
   "file_extension": ".py",
   "mimetype": "text/x-python",
   "name": "python",
   "nbconvert_exporter": "python",
   "pygments_lexer": "ipython3",
   "version": "3.10.10"
  }
 },
 "nbformat": 4,
 "nbformat_minor": 5
}
